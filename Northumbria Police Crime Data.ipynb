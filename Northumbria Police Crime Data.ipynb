{
 "cells": [
  {
   "cell_type": "markdown",
   "id": "ad296b9b",
   "metadata": {},
   "source": [
    "# Northumbria Police Crime Data \n",
    "### From May 2020- April 2023"
   ]
  },
  {
   "cell_type": "code",
   "execution_count": null,
   "id": "8f2b75f1",
   "metadata": {},
   "outputs": [],
   "source": []
  },
  {
   "cell_type": "markdown",
   "id": "f2b7c2aa",
   "metadata": {},
   "source": [
    "The data for this notebook is downloaded from [the police.uk website](https://data.police.uk/data), for the months containing and between May 2020 up to April 2023. In the downloaded .zip file, are folders for each month called '2020-05' for example. In each folder are 3 .csv files:\n",
    "- one for street crimes\n",
    "- one is for crime outcomes\n",
    "- and the other is stop and search data\n",
    "\n",
    "Primarily this notebook wants to look at the **street crime data**, ultimately producing an interactive map with the location of each crime tagged and labelled."
   ]
  },
  {
   "cell_type": "code",
   "execution_count": null,
   "id": "68dc162f",
   "metadata": {},
   "outputs": [],
   "source": [
    "import pandas as pd"
   ]
  },
  {
   "cell_type": "markdown",
   "id": "eb51cfb4",
   "metadata": {},
   "source": [
    "## A single month"
   ]
  },
  {
   "cell_type": "markdown",
   "id": "783014c5",
   "metadata": {},
   "source": [
    "First to practice the neccesary code, we will play with the data for a single month, namely **May 2020**."
   ]
  },
  {
   "cell_type": "code",
   "execution_count": null,
   "id": "8a8fd00d",
   "metadata": {},
   "outputs": [],
   "source": [
    "df_may2020 = pd.read_csv(\"2020-05/2020-05-northumbria-street.csv\")\n",
    "print(\"Dataset successuly loaded into pandas dataframe!\")\n",
    "print(\"Shape of dataset:\", df_may2020.shape)"
   ]
  },
  {
   "cell_type": "markdown",
   "id": "322b01e3",
   "metadata": {},
   "source": [
    "Now we can look at the first few elements of the dataframe to get a feel for the data."
   ]
  },
  {
   "cell_type": "code",
   "execution_count": null,
   "id": "214166b0",
   "metadata": {},
   "outputs": [],
   "source": [
    "df_may2020.head(5)"
   ]
  },
  {
   "cell_type": "markdown",
   "id": "9e9681f1",
   "metadata": {},
   "source": [
    "#### Cleaning the data"
   ]
  },
  {
   "cell_type": "markdown",
   "id": "525f21f5",
   "metadata": {},
   "source": [
    "Firstly, the LSOA code/name describe geographic area, but isn't neccesary for this analysis, as we're using the longitude and latitude values only, so we can drop this straight away."
   ]
  },
  {
   "cell_type": "code",
   "execution_count": null,
   "id": "1dccc53e",
   "metadata": {},
   "outputs": [],
   "source": [
    "df_may2020.drop(['LSOA code', 'LSOA name'], axis=1, inplace=True)"
   ]
  },
  {
   "cell_type": "markdown",
   "id": "d0789c11",
   "metadata": {},
   "source": [
    "The data still looks quite messy so we'll need to do some cleaning before an analysis can take place. To begin with, we'll look at NaN values."
   ]
  },
  {
   "cell_type": "code",
   "execution_count": null,
   "id": "50659555",
   "metadata": {},
   "outputs": [],
   "source": [
    "missing_data = df_may2020.isnull()\n",
    "missing_data.head(5)"
   ]
  },
  {
   "cell_type": "markdown",
   "id": "8667097d",
   "metadata": {},
   "source": [
    "We can count how many missing elements there are for each column, and the we can decide what to do with them."
   ]
  },
  {
   "cell_type": "code",
   "execution_count": null,
   "id": "38d161e1",
   "metadata": {},
   "outputs": [],
   "source": [
    "for column in missing_data.columns.values.tolist():\n",
    "    print(column)\n",
    "    print (missing_data[column].value_counts())\n",
    "    print(\"\")   "
   ]
  },
  {
   "cell_type": "markdown",
   "id": "bb797d7f",
   "metadata": {},
   "source": [
    "From this, we can see that for `Crime ID` and `Last outcome category` only about half of the entries have values, so we'll drop these columns. We'll also drop the `Context` column as it is empty."
   ]
  },
  {
   "cell_type": "code",
   "execution_count": null,
   "id": "8bb42b5c",
   "metadata": {},
   "outputs": [],
   "source": [
    "df_may2020.drop(['Crime ID', 'Last outcome category', 'Context'], axis=1, inplace=True)"
   ]
  },
  {
   "cell_type": "code",
   "execution_count": null,
   "id": "f1b92bda",
   "metadata": {},
   "outputs": [],
   "source": [
    "df_may2020.head()"
   ]
  },
  {
   "cell_type": "markdown",
   "id": "fe4d0777",
   "metadata": {},
   "source": [
    "It also looks like the columns `Reported by` and `Falls within` may be irrelevant, since the crime data here should *only* contain data from Northumbria police. We can check this. "
   ]
  },
  {
   "cell_type": "code",
   "execution_count": null,
   "id": "fbf2193e",
   "metadata": {},
   "outputs": [],
   "source": [
    "print(df_may2020['Reported by'].value_counts())\n",
    "print(df_may2020['Falls within'].value_counts())"
   ]
  },
  {
   "cell_type": "markdown",
   "id": "72c51a56",
   "metadata": {},
   "source": [
    "As suspected, these columns *all* contian Northumbria Police, so they can be dropped too."
   ]
  },
  {
   "cell_type": "code",
   "execution_count": null,
   "id": "3ec5ab3b",
   "metadata": {},
   "outputs": [],
   "source": [
    "df_may2020.drop(['Reported by', 'Falls within'], axis=1, inplace=True)"
   ]
  },
  {
   "cell_type": "code",
   "execution_count": null,
   "id": "ebfd04f9",
   "metadata": {},
   "outputs": [],
   "source": [
    "df_may2020.head()"
   ]
  },
  {
   "cell_type": "markdown",
   "id": "fd34b875",
   "metadata": {},
   "source": [
    "The last thing to check whilst cleaning the data is the data types. "
   ]
  },
  {
   "cell_type": "code",
   "execution_count": null,
   "id": "24fe110a",
   "metadata": {},
   "outputs": [],
   "source": [
    "df_may2020.dtypes"
   ]
  },
  {
   "cell_type": "markdown",
   "id": "0b8974e3",
   "metadata": {},
   "source": [
    "These are all as we would expect, so we can continue with the analysis."
   ]
  },
  {
   "cell_type": "markdown",
   "id": "cd4bcb78",
   "metadata": {},
   "source": [
    "#### Analysis"
   ]
  },
  {
   "cell_type": "markdown",
   "id": "3c49b930",
   "metadata": {},
   "source": [
    "To pin each of these crimes by their latitudes and longitudes on a map, we can use the `folium` package."
   ]
  },
  {
   "cell_type": "code",
   "execution_count": null,
   "id": "235a1566",
   "metadata": {},
   "outputs": [],
   "source": [
    "import folium"
   ]
  },
  {
   "cell_type": "markdown",
   "id": "de9e7953",
   "metadata": {},
   "source": [
    "Lets pull up a map of Northumberland, centered on Newcastle."
   ]
  },
  {
   "cell_type": "code",
   "execution_count": null,
   "id": "5fff69df",
   "metadata": {},
   "outputs": [],
   "source": [
    "northumberland_lat = 54.979\n",
    "northumberland_long = -1.61\n",
    "\n",
    "northumberland_map = folium.Map(location=[northumberland_lat, northumberland_long], zoom_start=13)\n",
    "northumberland_map"
   ]
  },
  {
   "cell_type": "markdown",
   "id": "f6fe6b9a",
   "metadata": {},
   "source": [
    "We can now superimpose the crime data onto the map using `FeatureGroups()`."
   ]
  },
  {
   "cell_type": "code",
   "execution_count": null,
   "id": "5b282b46",
   "metadata": {},
   "outputs": [],
   "source": [
    "street_crimes = folium.map.FeatureGroup()\n",
    "\n",
    "# Labels data for crime type\n",
    "labels = list(df_may2020['Crime type'])\n",
    "\n",
    "# Loop through each crime and add each to the feature group\n",
    "for lat, lng, labels in zip(df_may2020.Latitude, df_may2020.Longitude, df_may2020['Crime type']):\n",
    "        folium.features.CircleMarker(\n",
    "            [lat, lng],\n",
    "            radius=5, # define how big you want the circle markers to be\n",
    "            color='yellow',\n",
    "            fill=True,\n",
    "            popup=labels,\n",
    "            fill_color='blue',\n",
    "            fill_opacity=0.6\n",
    "        ).add_to(northumberland_map)\n",
    "    \n",
    "# Add the crimes to the map\n",
    "northumberland_map"
   ]
  },
  {
   "cell_type": "markdown",
   "id": "8c2339fa",
   "metadata": {},
   "source": [
    "From this map, already you can pan around, and zoom in, and by clicking on each marker, a description of the `Crime type` is shown. \n",
    "\n",
    "The original plan had been to superimpose all months of crime ontop of one another, but as is clear, the map is already quite cluttered. One solution to this is to group the markers togeather when zooming out."
   ]
  },
  {
   "cell_type": "code",
   "execution_count": null,
   "id": "fcbafc2e",
   "metadata": {},
   "outputs": [],
   "source": [
    "from folium import plugins\n",
    "\n",
    "# Start with a clean map\n",
    "northumberland_map = folium.Map(location=[northumberland_lat, northumberland_long], zoom_start=13)\n",
    "\n",
    "# Instantiate a mark cluster object for the street crimes in the dataframe\n",
    "street_crimes = plugins.MarkerCluster().add_to(northumberland_map)\n",
    "\n",
    "# loop through the dataframe and add each data point to the mark cluster\n",
    "for lat, lng, label, in zip(df_may2020.Latitude, df_may2020.Longitude, df_may2020['Crime type']):\n",
    "    folium.Marker(\n",
    "        location=[lat, lng],\n",
    "        icon=None,\n",
    "        popup=labels,\n",
    "    ).add_to(street_crimes)\n",
    "\n",
    "# display map\n",
    "northumberland_map"
   ]
  },
  {
   "cell_type": "markdown",
   "id": "38d79bdd",
   "metadata": {},
   "source": [
    "This map is now much more versatile for adding additional data. I'd like the versatility of being able to change the months accessed on the fly, so I'd like to create a function that will automatically produce the above plot for any of the available months. "
   ]
  },
  {
   "cell_type": "markdown",
   "id": "e5737b07",
   "metadata": {},
   "source": [
    "To do this it will first be very helpful to create one massive dataframe containing all of the crimes from every month analysed."
   ]
  },
  {
   "cell_type": "markdown",
   "id": "19c9aa8f",
   "metadata": {},
   "source": [
    "## Any month"
   ]
  },
  {
   "cell_type": "markdown",
   "id": "ebc51a74",
   "metadata": {},
   "source": [
    "Using the `pathlib` library, it is easy to read in all of the .csv files and concatenate them into one massive dataframe which can easily be cleaned."
   ]
  },
  {
   "cell_type": "code",
   "execution_count": null,
   "id": "c343c770",
   "metadata": {},
   "outputs": [],
   "source": [
    "from pathlib import Path #for reading files\n",
    "from datetime import datetime #for month datatype\n",
    "\n",
    "# Read each .csv file in root directory \"\"\n",
    "dfs = []\n",
    "for file in Path(\"\").glob(\"**/*street.csv\"):\n",
    "    dfs.append(pd.read_csv(file))\n",
    "\n",
    "# Concatenate all dataframes\n",
    "df_all = pd.concat(dfs)\n",
    "\n",
    "# As before, drop 'LSOA code', 'LSOA name', 'Crime ID', 'Reported by', 'Falls within', 'Last outcome category' and 'Context'\n",
    "df_all.drop(['LSOA code', 'LSOA name', 'Crime ID', 'Reported by', 'Falls within', 'Last outcome category', 'Context'], \n",
    "            axis=1, inplace=True)"
   ]
  },
  {
   "cell_type": "code",
   "execution_count": null,
   "id": "8b574139",
   "metadata": {},
   "outputs": [],
   "source": [
    "df_all.head()"
   ]
  },
  {
   "cell_type": "markdown",
   "id": "9118bd63",
   "metadata": {},
   "source": [
    "We write a function that will automatically produce a map for a month passed as a parameter. We should check again what data type `Month` is."
   ]
  },
  {
   "cell_type": "code",
   "execution_count": null,
   "id": "b1fa2a64",
   "metadata": {},
   "outputs": [],
   "source": [
    "df_all.dtypes"
   ]
  },
  {
   "cell_type": "markdown",
   "id": "202ecac3",
   "metadata": {},
   "source": [
    "Month is an object here, but so long as the user inputs the date in the format `'YYYY-MM'`, there shouldn't be an issue. This will be reiterated when we use the function. I'd like the user to be able to input a list of months, such as `['2020-05', '2020-06', '2023-01']` and have the markers for all these months overlayed at once."
   ]
  },
  {
   "cell_type": "code",
   "execution_count": null,
   "id": "ade87ba6",
   "metadata": {},
   "outputs": [],
   "source": [
    "def create_northumberland_crime_map(year_month):\n",
    "    # Latitude and longitude values of Northumberland, centred on Newcastle\n",
    "    northumberland_lat = 54.979\n",
    "    northumberland_long = -1.61\n",
    "    \n",
    "    # Create a clean map\n",
    "    new_northumberland_map = folium.Map(location=[northumberland_lat, northumberland_long], zoom_start=13)\n",
    "    \n",
    "    # Create a subset of the full dataframe containing only the months the user has entered\n",
    "    df_subset = pd.DataFrame(data=None, columns=df_all.columns)\n",
    "    for entry_in in year_month:\n",
    "        df_subsubset = df_all[df_all['Month'] == entry_in]\n",
    "        df_subset = pd.concat([df_subset, df_subsubset])\n",
    "    print(\"Successfully created a subset dataframe\")\n",
    "    \n",
    "    # Create a list of labels from the 'Crime type' attribute\n",
    "    content = df_subset['Crime type'] + \" \" + df_subset['Month']\n",
    "    labels = list(content)\n",
    "\n",
    "    # Instantiate a mark cluster object for the street crimes in the dataframe\n",
    "    street_crimes_ = plugins.MarkerCluster().add_to(new_northumberland_map)\n",
    "\n",
    "    # loop through the dataframe and add each data point to the mark cluster\n",
    "    for lat, lng, labels, in zip(df_subset.Latitude, df_subset.Longitude, content):\n",
    "        folium.CircleMarker(\n",
    "            location=[lat, lng],\n",
    "            icon=None,\n",
    "            popup=labels,\n",
    "            radius = 5, # define how big you want the circle markers to be\n",
    "            color = 'yellow',\n",
    "            fill = True,\n",
    "            fill_color = 'blue',\n",
    "            fill_opacity = 0.6\n",
    "        ).add_to(street_crimes_)\n",
    "\n",
    "    # display map\n",
    "    display(new_northumberland_map)"
   ]
  },
  {
   "cell_type": "markdown",
   "id": "2006b717",
   "metadata": {},
   "source": [
    "Let's try using this function for the months of January, February and March in 2021."
   ]
  },
  {
   "cell_type": "code",
   "execution_count": null,
   "id": "44802977",
   "metadata": {
    "scrolled": false
   },
   "outputs": [],
   "source": [
    "desired_months = ['2021-01', '2021-02', '2021-03']\n",
    "create_northumberland_crime_map(desired_months)"
   ]
  },
  {
   "cell_type": "markdown",
   "id": "009cf46e",
   "metadata": {},
   "source": [
    "Using this interactive map, each marker contains not only the crime information, but the date too, since we have multiple months in our dataframe."
   ]
  },
  {
   "cell_type": "markdown",
   "id": "d3cff950",
   "metadata": {},
   "source": [
    "## Author"
   ]
  },
  {
   "cell_type": "markdown",
   "id": "de43e41d",
   "metadata": {},
   "source": [
    "Ted Binns"
   ]
  }
 ],
 "metadata": {
  "kernelspec": {
   "display_name": "Python 3 (ipykernel)",
   "language": "python",
   "name": "python3"
  },
  "language_info": {
   "codemirror_mode": {
    "name": "ipython",
    "version": 3
   },
   "file_extension": ".py",
   "mimetype": "text/x-python",
   "name": "python",
   "nbconvert_exporter": "python",
   "pygments_lexer": "ipython3",
   "version": "3.10.12"
  }
 },
 "nbformat": 4,
 "nbformat_minor": 5
}
